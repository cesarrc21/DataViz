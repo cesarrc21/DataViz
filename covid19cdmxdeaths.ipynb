{
  "nbformat": 4,
  "nbformat_minor": 0,
  "metadata": {
    "kernelspec": {
      "display_name": "Python 3",
      "language": "python",
      "name": "python3"
    },
    "language_info": {
      "codemirror_mode": {
        "name": "ipython",
        "version": 3
      },
      "file_extension": ".py",
      "mimetype": "text/x-python",
      "name": "python",
      "nbconvert_exporter": "python",
      "pygments_lexer": "ipython3",
      "version": "3.7.4"
    },
    "colab": {
      "name": "covid19cdmxdeaths.ipynb",
      "provenance": [],
      "collapsed_sections": []
    }
  },
  "cells": [
    {
      "cell_type": "code",
      "metadata": {
        "id": "soQkWy138pTb",
        "colab_type": "code",
        "colab": {}
      },
      "source": [
        "import pandas as pd\n",
        "import numpy as np\n",
        "import matplotlib.pyplot as plt\n",
        "from matplotlib import style\n",
        "style.use(\"seaborn-dark-palette\")\n",
        "from datetime import datetime\n",
        "import warnings\n",
        "warnings.filterwarnings(\"ignore\") "
      ],
      "execution_count": 0,
      "outputs": []
    },
    {
      "cell_type": "markdown",
      "metadata": {
        "id": "gny2VjSDzNwM",
        "colab_type": "text"
      },
      "source": [
        "### **First Dataset_Animalpolitico.com**"
      ]
    },
    {
      "cell_type": "code",
      "metadata": {
        "id": "YlHluwPh8pTx",
        "colab_type": "code",
        "outputId": "23260ec4-0939-4457-b491-b54d830e33a9",
        "colab": {
          "base_uri": "https://localhost:8080/",
          "height": 143
        }
      },
      "source": [
        "df = pd.read_excel('actas-defuncion-covid-19-cdmx.xlsx')\n",
        "df.head(3)"
      ],
      "execution_count": 213,
      "outputs": [
        {
          "output_type": "execute_result",
          "data": {
            "text/html": [
              "<div>\n",
              "<style scoped>\n",
              "    .dataframe tbody tr th:only-of-type {\n",
              "        vertical-align: middle;\n",
              "    }\n",
              "\n",
              "    .dataframe tbody tr th {\n",
              "        vertical-align: top;\n",
              "    }\n",
              "\n",
              "    .dataframe thead th {\n",
              "        text-align: right;\n",
              "    }\n",
              "</style>\n",
              "<table border=\"1\" class=\"dataframe\">\n",
              "  <thead>\n",
              "    <tr style=\"text-align: right;\">\n",
              "      <th></th>\n",
              "      <th>EDAD</th>\n",
              "      <th>FECHA</th>\n",
              "      <th>SEMANA</th>\n",
              "      <th>MES</th>\n",
              "      <th>RAZON</th>\n",
              "      <th>ACTA</th>\n",
              "    </tr>\n",
              "  </thead>\n",
              "  <tbody>\n",
              "    <tr>\n",
              "      <th>0</th>\n",
              "      <td>41 AÑOS</td>\n",
              "      <td>2020-03-18</td>\n",
              "      <td>12</td>\n",
              "      <td>3</td>\n",
              "      <td>CHOQUE SEPTICO, NEUMONIA POR COVID 19 POR SARS...</td>\n",
              "      <td>7129</td>\n",
              "    </tr>\n",
              "    <tr>\n",
              "      <th>1</th>\n",
              "      <td>61 AÑOS</td>\n",
              "      <td>2020-03-23</td>\n",
              "      <td>13</td>\n",
              "      <td>3</td>\n",
              "      <td>INSUFICIENCIA RESPIRATORIA AGUDA, NEUMONIA VIR...</td>\n",
              "      <td>4459</td>\n",
              "    </tr>\n",
              "    <tr>\n",
              "      <th>2</th>\n",
              "      <td>60 AÑOS</td>\n",
              "      <td>2020-03-26</td>\n",
              "      <td>13</td>\n",
              "      <td>3</td>\n",
              "      <td>SINDROME DE INSUFICIENCIA RESPIRATORIA AGUDA, ...</td>\n",
              "      <td>4591</td>\n",
              "    </tr>\n",
              "  </tbody>\n",
              "</table>\n",
              "</div>"
            ],
            "text/plain": [
              "      EDAD      FECHA  ...                                              RAZON  ACTA\n",
              "0  41 AÑOS 2020-03-18  ...  CHOQUE SEPTICO, NEUMONIA POR COVID 19 POR SARS...  7129\n",
              "1  61 AÑOS 2020-03-23  ...  INSUFICIENCIA RESPIRATORIA AGUDA, NEUMONIA VIR...  4459\n",
              "2  60 AÑOS 2020-03-26  ...  SINDROME DE INSUFICIENCIA RESPIRATORIA AGUDA, ...  4591\n",
              "\n",
              "[3 rows x 6 columns]"
            ]
          },
          "metadata": {
            "tags": []
          },
          "execution_count": 213
        }
      ]
    },
    {
      "cell_type": "code",
      "metadata": {
        "id": "8ByTTgXq8pUI",
        "colab_type": "code",
        "outputId": "7e09af74-6f4d-4812-ab00-9c721f131684",
        "colab": {
          "base_uri": "https://localhost:8080/",
          "height": 364
        }
      },
      "source": [
        "#Verifying if there is any nan value\n",
        "df.info()\n",
        "df.isna().sum()"
      ],
      "execution_count": 214,
      "outputs": [
        {
          "output_type": "stream",
          "text": [
            "<class 'pandas.core.frame.DataFrame'>\n",
            "RangeIndex: 4579 entries, 0 to 4578\n",
            "Data columns (total 6 columns):\n",
            " #   Column  Non-Null Count  Dtype         \n",
            "---  ------  --------------  -----         \n",
            " 0   EDAD    4579 non-null   object        \n",
            " 1   FECHA   4579 non-null   datetime64[ns]\n",
            " 2   SEMANA  4579 non-null   int64         \n",
            " 3   MES     4579 non-null   int64         \n",
            " 4   RAZON   4579 non-null   object        \n",
            " 5   ACTA    4579 non-null   int64         \n",
            "dtypes: datetime64[ns](1), int64(3), object(2)\n",
            "memory usage: 214.8+ KB\n"
          ],
          "name": "stdout"
        },
        {
          "output_type": "execute_result",
          "data": {
            "text/plain": [
              "EDAD      0\n",
              "FECHA     0\n",
              "SEMANA    0\n",
              "MES       0\n",
              "RAZON     0\n",
              "ACTA      0\n",
              "dtype: int64"
            ]
          },
          "metadata": {
            "tags": []
          },
          "execution_count": 214
        }
      ]
    },
    {
      "cell_type": "code",
      "metadata": {
        "id": "qPSLCeox5HLQ",
        "colab_type": "code",
        "colab": {}
      },
      "source": [
        "#Delete time 00:00 from date\n",
        "df['FECHA'] = pd.to_datetime(df['FECHA']).dt.date"
      ],
      "execution_count": 0,
      "outputs": []
    },
    {
      "cell_type": "code",
      "metadata": {
        "id": "WBl_yBAoN-07",
        "colab_type": "code",
        "colab": {}
      },
      "source": [
        "df = df.drop(columns=['SEMANA','MES','ACTA'])"
      ],
      "execution_count": 0,
      "outputs": []
    },
    {
      "cell_type": "code",
      "metadata": {
        "id": "0OEAJ5d_8pUa",
        "colab_type": "code",
        "colab": {}
      },
      "source": [
        "#Remove part of strings of Edad\n",
        "df['EDAD'] = df['EDAD'].str.rstrip('DIASAÑOSMESES')"
      ],
      "execution_count": 0,
      "outputs": []
    },
    {
      "cell_type": "code",
      "metadata": {
        "id": "jrO-45GX8pVo",
        "colab_type": "code",
        "colab": {}
      },
      "source": [
        "#Convert Edad values to int\n",
        "df['EDAD'] = df['EDAD'].astype(int)"
      ],
      "execution_count": 0,
      "outputs": []
    },
    {
      "cell_type": "code",
      "metadata": {
        "id": "Acs0ZmcXE2SE",
        "colab_type": "code",
        "colab": {}
      },
      "source": [
        "#Set Fecha as index\n",
        "df = df.set_index('FECHA')"
      ],
      "execution_count": 0,
      "outputs": []
    },
    {
      "cell_type": "code",
      "metadata": {
        "id": "venytaFZuGWe",
        "colab_type": "code",
        "colab": {
          "base_uri": "https://localhost:8080/",
          "height": 206
        },
        "outputId": "4e61dee8-6ffa-4bd5-c35b-2eba9f954e87"
      },
      "source": [
        "df.sample(4)"
      ],
      "execution_count": 220,
      "outputs": [
        {
          "output_type": "execute_result",
          "data": {
            "text/html": [
              "<div>\n",
              "<style scoped>\n",
              "    .dataframe tbody tr th:only-of-type {\n",
              "        vertical-align: middle;\n",
              "    }\n",
              "\n",
              "    .dataframe tbody tr th {\n",
              "        vertical-align: top;\n",
              "    }\n",
              "\n",
              "    .dataframe thead th {\n",
              "        text-align: right;\n",
              "    }\n",
              "</style>\n",
              "<table border=\"1\" class=\"dataframe\">\n",
              "  <thead>\n",
              "    <tr style=\"text-align: right;\">\n",
              "      <th></th>\n",
              "      <th>EDAD</th>\n",
              "      <th>RAZON</th>\n",
              "    </tr>\n",
              "    <tr>\n",
              "      <th>FECHA</th>\n",
              "      <th></th>\n",
              "      <th></th>\n",
              "    </tr>\n",
              "  </thead>\n",
              "  <tbody>\n",
              "    <tr>\n",
              "      <th>2020-05-06</th>\n",
              "      <td>55</td>\n",
              "      <td>SINDROME DE DISTRES RESPIRATORIO AGUDO, ENFERM...</td>\n",
              "    </tr>\n",
              "    <tr>\n",
              "      <th>2020-04-25</th>\n",
              "      <td>56</td>\n",
              "      <td>INSUFICIENCIA RESPIRATORIA, NEUMONIA ATIPICA, ...</td>\n",
              "    </tr>\n",
              "    <tr>\n",
              "      <th>2020-05-06</th>\n",
              "      <td>68</td>\n",
              "      <td>NEUMONIA POR COVID SARS COV 2</td>\n",
              "    </tr>\n",
              "    <tr>\n",
              "      <th>2020-04-30</th>\n",
              "      <td>72</td>\n",
              "      <td>INSUFICIENCIA RESPIRATORIA AGUDA, NEUMONIA ATI...</td>\n",
              "    </tr>\n",
              "  </tbody>\n",
              "</table>\n",
              "</div>"
            ],
            "text/plain": [
              "            EDAD                                              RAZON\n",
              "FECHA                                                              \n",
              "2020-05-06    55  SINDROME DE DISTRES RESPIRATORIO AGUDO, ENFERM...\n",
              "2020-04-25    56  INSUFICIENCIA RESPIRATORIA, NEUMONIA ATIPICA, ...\n",
              "2020-05-06    68                      NEUMONIA POR COVID SARS COV 2\n",
              "2020-04-30    72  INSUFICIENCIA RESPIRATORIA AGUDA, NEUMONIA ATI..."
            ]
          },
          "metadata": {
            "tags": []
          },
          "execution_count": 220
        }
      ]
    },
    {
      "cell_type": "code",
      "metadata": {
        "id": "zdSqKR5oePyw",
        "colab_type": "code",
        "colab": {}
      },
      "source": [
        "#Select rows which contains word Covid \n",
        "df = df[df.RAZON.str.contains('COVID')]\n",
        "#df.RAZON.to_list()"
      ],
      "execution_count": 0,
      "outputs": []
    },
    {
      "cell_type": "code",
      "metadata": {
        "id": "w6tUxYV3WTeR",
        "colab_type": "code",
        "outputId": "895f53af-5397-4f7d-9b55-83c15b6aee48",
        "colab": {
          "base_uri": "https://localhost:8080/",
          "height": 173
        }
      },
      "source": [
        "df.info()"
      ],
      "execution_count": 222,
      "outputs": [
        {
          "output_type": "stream",
          "text": [
            "<class 'pandas.core.frame.DataFrame'>\n",
            "Index: 2622 entries, 2020-03-18 to 2020-05-12\n",
            "Data columns (total 2 columns):\n",
            " #   Column  Non-Null Count  Dtype \n",
            "---  ------  --------------  ----- \n",
            " 0   EDAD    2622 non-null   int64 \n",
            " 1   RAZON   2622 non-null   object\n",
            "dtypes: int64(1), object(1)\n",
            "memory usage: 61.5+ KB\n"
          ],
          "name": "stdout"
        }
      ]
    },
    {
      "cell_type": "code",
      "metadata": {
        "id": "745-9Bw0jfSO",
        "colab_type": "code",
        "colab": {
          "base_uri": "https://localhost:8080/",
          "height": 173
        },
        "outputId": "23853039-f6ea-4bd4-cd22-353ec0359aa2"
      },
      "source": [
        "#Drop rows which contain deaths with no covid confimed\n",
        "targets = ['PROBABLE','SOSPECHA','SOSPECHOSO','POSIBLE','PROB','PB','NO IDENTIFICADO','DESCARTADO','SOSPECHO','SOPECHOSO','PRBABLE',\n",
        "          'PROPOBABLE','POBALE','SOPECOSO','PROPABLE','PROVABLE','PRIOBABLE']\n",
        "\n",
        "#Cases where corovid-19 were confirmed      \n",
        "Confirmed = df[~df.RAZON.apply(lambda sentence: any(word in sentence for word in targets))]\n",
        "\n",
        "Confirmed.info()"
      ],
      "execution_count": 223,
      "outputs": [
        {
          "output_type": "stream",
          "text": [
            "<class 'pandas.core.frame.DataFrame'>\n",
            "Index: 740 entries, 2020-03-18 to 2020-05-12\n",
            "Data columns (total 2 columns):\n",
            " #   Column  Non-Null Count  Dtype \n",
            "---  ------  --------------  ----- \n",
            " 0   EDAD    740 non-null    int64 \n",
            " 1   RAZON   740 non-null    object\n",
            "dtypes: int64(1), object(1)\n",
            "memory usage: 17.3+ KB\n"
          ],
          "name": "stdout"
        }
      ]
    },
    {
      "cell_type": "code",
      "metadata": {
        "id": "pgOrTm6qQoW6",
        "colab_type": "code",
        "colab": {
          "base_uri": "https://localhost:8080/",
          "height": 173
        },
        "outputId": "e67e8f8f-7a75-4265-b3b9-43fe34d18115"
      },
      "source": [
        "#Cases where corovid-19 were Not confirmed\n",
        "No_Confirmed = df[df.RAZON.apply(lambda sentence: any(word in sentence for word in targets))]\n",
        "\n",
        "No_Confirmed.info()"
      ],
      "execution_count": 224,
      "outputs": [
        {
          "output_type": "stream",
          "text": [
            "<class 'pandas.core.frame.DataFrame'>\n",
            "Index: 1882 entries, 2020-04-04 to 2020-05-12\n",
            "Data columns (total 2 columns):\n",
            " #   Column  Non-Null Count  Dtype \n",
            "---  ------  --------------  ----- \n",
            " 0   EDAD    1882 non-null   int64 \n",
            " 1   RAZON   1882 non-null   object\n",
            "dtypes: int64(1), object(1)\n",
            "memory usage: 44.1+ KB\n"
          ],
          "name": "stdout"
        }
      ]
    },
    {
      "cell_type": "markdown",
      "metadata": {
        "id": "Mv_JOrpTzIAk",
        "colab_type": "text"
      },
      "source": [
        "---"
      ]
    },
    {
      "cell_type": "markdown",
      "metadata": {
        "id": "G0M5C1GYtRyr",
        "colab_type": "text"
      },
      "source": [
        "### **Second Dataset_Datosabiertos.gob**\n",
        "\n"
      ]
    },
    {
      "cell_type": "code",
      "metadata": {
        "id": "C8tbTcA5EUZA",
        "colab_type": "code",
        "outputId": "7bc833b3-52c1-4924-edf2-ced48d16917a",
        "colab": {
          "base_uri": "https://localhost:8080/",
          "height": 163
        }
      },
      "source": [
        "df2 = pd.read_csv('200521COVID19MEXICO.csv', encoding='latin1')  #instead encoding = 'uft-8'\n",
        "df2.head(3)"
      ],
      "execution_count": 225,
      "outputs": [
        {
          "output_type": "execute_result",
          "data": {
            "text/html": [
              "<div>\n",
              "<style scoped>\n",
              "    .dataframe tbody tr th:only-of-type {\n",
              "        vertical-align: middle;\n",
              "    }\n",
              "\n",
              "    .dataframe tbody tr th {\n",
              "        vertical-align: top;\n",
              "    }\n",
              "\n",
              "    .dataframe thead th {\n",
              "        text-align: right;\n",
              "    }\n",
              "</style>\n",
              "<table border=\"1\" class=\"dataframe\">\n",
              "  <thead>\n",
              "    <tr style=\"text-align: right;\">\n",
              "      <th></th>\n",
              "      <th>FECHA_ACTUALIZACION</th>\n",
              "      <th>ID_REGISTRO</th>\n",
              "      <th>ORIGEN</th>\n",
              "      <th>SECTOR</th>\n",
              "      <th>ENTIDAD_UM</th>\n",
              "      <th>SEXO</th>\n",
              "      <th>ENTIDAD_NAC</th>\n",
              "      <th>ENTIDAD_RES</th>\n",
              "      <th>MUNICIPIO_RES</th>\n",
              "      <th>TIPO_PACIENTE</th>\n",
              "      <th>FECHA_INGRESO</th>\n",
              "      <th>FECHA_SINTOMAS</th>\n",
              "      <th>FECHA_DEF</th>\n",
              "      <th>INTUBADO</th>\n",
              "      <th>NEUMONIA</th>\n",
              "      <th>EDAD</th>\n",
              "      <th>NACIONALIDAD</th>\n",
              "      <th>EMBARAZO</th>\n",
              "      <th>HABLA_LENGUA_INDIG</th>\n",
              "      <th>DIABETES</th>\n",
              "      <th>EPOC</th>\n",
              "      <th>ASMA</th>\n",
              "      <th>INMUSUPR</th>\n",
              "      <th>HIPERTENSION</th>\n",
              "      <th>OTRA_COM</th>\n",
              "      <th>CARDIOVASCULAR</th>\n",
              "      <th>OBESIDAD</th>\n",
              "      <th>RENAL_CRONICA</th>\n",
              "      <th>TABAQUISMO</th>\n",
              "      <th>OTRO_CASO</th>\n",
              "      <th>RESULTADO</th>\n",
              "      <th>MIGRANTE</th>\n",
              "      <th>PAIS_NACIONALIDAD</th>\n",
              "      <th>PAIS_ORIGEN</th>\n",
              "      <th>UCI</th>\n",
              "    </tr>\n",
              "  </thead>\n",
              "  <tbody>\n",
              "    <tr>\n",
              "      <th>0</th>\n",
              "      <td>2020-05-21</td>\n",
              "      <td>11e989</td>\n",
              "      <td>2</td>\n",
              "      <td>3</td>\n",
              "      <td>27</td>\n",
              "      <td>2</td>\n",
              "      <td>27</td>\n",
              "      <td>27</td>\n",
              "      <td>4</td>\n",
              "      <td>2</td>\n",
              "      <td>2020-04-24</td>\n",
              "      <td>2020-04-20</td>\n",
              "      <td>2020-04-27</td>\n",
              "      <td>2</td>\n",
              "      <td>1</td>\n",
              "      <td>71</td>\n",
              "      <td>1</td>\n",
              "      <td>97</td>\n",
              "      <td>99</td>\n",
              "      <td>1</td>\n",
              "      <td>2</td>\n",
              "      <td>2</td>\n",
              "      <td>2</td>\n",
              "      <td>1</td>\n",
              "      <td>2</td>\n",
              "      <td>2</td>\n",
              "      <td>2</td>\n",
              "      <td>2</td>\n",
              "      <td>2</td>\n",
              "      <td>1</td>\n",
              "      <td>1.0</td>\n",
              "      <td>99.0</td>\n",
              "      <td>MÃ©xico</td>\n",
              "      <td>99</td>\n",
              "      <td>2.0</td>\n",
              "    </tr>\n",
              "    <tr>\n",
              "      <th>1</th>\n",
              "      <td>2020-05-21</td>\n",
              "      <td>1aad65</td>\n",
              "      <td>2</td>\n",
              "      <td>4</td>\n",
              "      <td>19</td>\n",
              "      <td>2</td>\n",
              "      <td>5</td>\n",
              "      <td>5</td>\n",
              "      <td>18</td>\n",
              "      <td>2</td>\n",
              "      <td>2020-03-30</td>\n",
              "      <td>2020-03-30</td>\n",
              "      <td>2020-04-03</td>\n",
              "      <td>2</td>\n",
              "      <td>2</td>\n",
              "      <td>66</td>\n",
              "      <td>1</td>\n",
              "      <td>97</td>\n",
              "      <td>2</td>\n",
              "      <td>2</td>\n",
              "      <td>2</td>\n",
              "      <td>2</td>\n",
              "      <td>2</td>\n",
              "      <td>2</td>\n",
              "      <td>1</td>\n",
              "      <td>2</td>\n",
              "      <td>2</td>\n",
              "      <td>2</td>\n",
              "      <td>2</td>\n",
              "      <td>99</td>\n",
              "      <td>1.0</td>\n",
              "      <td>99.0</td>\n",
              "      <td>MÃ©xico</td>\n",
              "      <td>99</td>\n",
              "      <td>1.0</td>\n",
              "    </tr>\n",
              "    <tr>\n",
              "      <th>2</th>\n",
              "      <td>2020-05-21</td>\n",
              "      <td>04f631</td>\n",
              "      <td>2</td>\n",
              "      <td>4</td>\n",
              "      <td>14</td>\n",
              "      <td>1</td>\n",
              "      <td>14</td>\n",
              "      <td>14</td>\n",
              "      <td>67</td>\n",
              "      <td>1</td>\n",
              "      <td>2020-04-10</td>\n",
              "      <td>2020-04-07</td>\n",
              "      <td>9999-99-99</td>\n",
              "      <td>97</td>\n",
              "      <td>2</td>\n",
              "      <td>35</td>\n",
              "      <td>1</td>\n",
              "      <td>2</td>\n",
              "      <td>2</td>\n",
              "      <td>2</td>\n",
              "      <td>2</td>\n",
              "      <td>2</td>\n",
              "      <td>2</td>\n",
              "      <td>2</td>\n",
              "      <td>2</td>\n",
              "      <td>2</td>\n",
              "      <td>2</td>\n",
              "      <td>2</td>\n",
              "      <td>2</td>\n",
              "      <td>99</td>\n",
              "      <td>1.0</td>\n",
              "      <td>99.0</td>\n",
              "      <td>MÃ©xico</td>\n",
              "      <td>99</td>\n",
              "      <td>97.0</td>\n",
              "    </tr>\n",
              "  </tbody>\n",
              "</table>\n",
              "</div>"
            ],
            "text/plain": [
              "  FECHA_ACTUALIZACION ID_REGISTRO  ORIGEN  ...  PAIS_NACIONALIDAD  PAIS_ORIGEN   UCI\n",
              "0          2020-05-21      11e989       2  ...            MÃ©xico           99   2.0\n",
              "1          2020-05-21      1aad65       2  ...            MÃ©xico           99   1.0\n",
              "2          2020-05-21      04f631       2  ...            MÃ©xico           99  97.0\n",
              "\n",
              "[3 rows x 35 columns]"
            ]
          },
          "metadata": {
            "tags": []
          },
          "execution_count": 225
        }
      ]
    },
    {
      "cell_type": "code",
      "metadata": {
        "id": "4YWuZUbv-lew",
        "colab_type": "code",
        "colab": {}
      },
      "source": [
        "#Drop not necessary columns\n",
        "df2 = df2.drop(columns=['FECHA_ACTUALIZACION','ID_REGISTRO','ORIGEN','SECTOR','ENTIDAD_UM','ENTIDAD_NAC','TIPO_PACIENTE','FECHA_INGRESO','FECHA_SINTOMAS',\n",
        "                        'INTUBADO','NEUMONIA','EMBARAZO','HABLA_LENGUA_INDIG','DIABETES','EPOC','ASMA','INMUSUPR','HIPERTENSION','OTRA_COM', 'NACIONALIDAD',\n",
        "                        'CARDIOVASCULAR','OBESIDAD','RENAL_CRONICA','TABAQUISMO','OTRO_CASO','MIGRANTE','PAIS_NACIONALIDAD','PAIS_ORIGEN','UCI'])"
      ],
      "execution_count": 0,
      "outputs": []
    },
    {
      "cell_type": "code",
      "metadata": {
        "id": "jl_wS-aIk7bX",
        "colab_type": "code",
        "outputId": "bb01cd12-ad7a-4b1c-f8f6-ccb7345b4e4a",
        "colab": {
          "base_uri": "https://localhost:8080/",
          "height": 364
        }
      },
      "source": [
        "df2.info()\n",
        "df2.isna().sum()  "
      ],
      "execution_count": 227,
      "outputs": [
        {
          "output_type": "stream",
          "text": [
            "<class 'pandas.core.frame.DataFrame'>\n",
            "RangeIndex: 124987 entries, 0 to 124986\n",
            "Data columns (total 6 columns):\n",
            " #   Column         Non-Null Count   Dtype  \n",
            "---  ------         --------------   -----  \n",
            " 0   SEXO           124987 non-null  int64  \n",
            " 1   ENTIDAD_RES    124987 non-null  int64  \n",
            " 2   MUNICIPIO_RES  124987 non-null  int64  \n",
            " 3   FECHA_DEF      124987 non-null  object \n",
            " 4   EDAD           124987 non-null  int64  \n",
            " 5   RESULTADO      124986 non-null  float64\n",
            "dtypes: float64(1), int64(4), object(1)\n",
            "memory usage: 5.7+ MB\n"
          ],
          "name": "stdout"
        },
        {
          "output_type": "execute_result",
          "data": {
            "text/plain": [
              "SEXO             0\n",
              "ENTIDAD_RES      0\n",
              "MUNICIPIO_RES    0\n",
              "FECHA_DEF        0\n",
              "EDAD             0\n",
              "RESULTADO        1\n",
              "dtype: int64"
            ]
          },
          "metadata": {
            "tags": []
          },
          "execution_count": 227
        }
      ]
    },
    {
      "cell_type": "code",
      "metadata": {
        "id": "jnkBOOP1XxO3",
        "colab_type": "code",
        "colab": {}
      },
      "source": [
        "df2 = df2[df2.FECHA_DEF != '9999-99-99']    #drop rows with that value"
      ],
      "execution_count": 0,
      "outputs": []
    },
    {
      "cell_type": "code",
      "metadata": {
        "id": "2uIJs07Za_Jz",
        "colab_type": "code",
        "colab": {}
      },
      "source": [
        "#Fecha_def to datetime format and delete time 00:00 from it\n",
        "\n",
        "df2['FECHA_DEF'] = pd.to_datetime(df2['FECHA_DEF'])\n",
        "df2['FECHA_DEF'] = pd.to_datetime(df2['FECHA_DEF']).dt.date"
      ],
      "execution_count": 0,
      "outputs": []
    },
    {
      "cell_type": "code",
      "metadata": {
        "id": "fX3gHj5da_E5",
        "colab_type": "code",
        "colab": {}
      },
      "source": [
        "df2 = df2.set_index('FECHA_DEF')   #Set Fecha_def as index"
      ],
      "execution_count": 0,
      "outputs": []
    },
    {
      "cell_type": "code",
      "metadata": {
        "id": "BD3VEg1Yt-GG",
        "colab_type": "code",
        "colab": {
          "base_uri": "https://localhost:8080/",
          "height": 206
        },
        "outputId": "2012b781-cf07-4a05-8b56-4ff6e30519fa"
      },
      "source": [
        "df2.head(4)"
      ],
      "execution_count": 231,
      "outputs": [
        {
          "output_type": "execute_result",
          "data": {
            "text/html": [
              "<div>\n",
              "<style scoped>\n",
              "    .dataframe tbody tr th:only-of-type {\n",
              "        vertical-align: middle;\n",
              "    }\n",
              "\n",
              "    .dataframe tbody tr th {\n",
              "        vertical-align: top;\n",
              "    }\n",
              "\n",
              "    .dataframe thead th {\n",
              "        text-align: right;\n",
              "    }\n",
              "</style>\n",
              "<table border=\"1\" class=\"dataframe\">\n",
              "  <thead>\n",
              "    <tr style=\"text-align: right;\">\n",
              "      <th></th>\n",
              "      <th>SEXO</th>\n",
              "      <th>ENTIDAD_RES</th>\n",
              "      <th>MUNICIPIO_RES</th>\n",
              "      <th>EDAD</th>\n",
              "      <th>RESULTADO</th>\n",
              "    </tr>\n",
              "    <tr>\n",
              "      <th>FECHA_DEF</th>\n",
              "      <th></th>\n",
              "      <th></th>\n",
              "      <th></th>\n",
              "      <th></th>\n",
              "      <th></th>\n",
              "    </tr>\n",
              "  </thead>\n",
              "  <tbody>\n",
              "    <tr>\n",
              "      <th>2020-04-27</th>\n",
              "      <td>2</td>\n",
              "      <td>27</td>\n",
              "      <td>4</td>\n",
              "      <td>71</td>\n",
              "      <td>1.0</td>\n",
              "    </tr>\n",
              "    <tr>\n",
              "      <th>2020-04-03</th>\n",
              "      <td>2</td>\n",
              "      <td>5</td>\n",
              "      <td>18</td>\n",
              "      <td>66</td>\n",
              "      <td>1.0</td>\n",
              "    </tr>\n",
              "    <tr>\n",
              "      <th>2020-04-20</th>\n",
              "      <td>1</td>\n",
              "      <td>15</td>\n",
              "      <td>110</td>\n",
              "      <td>67</td>\n",
              "      <td>1.0</td>\n",
              "    </tr>\n",
              "    <tr>\n",
              "      <th>2020-03-22</th>\n",
              "      <td>2</td>\n",
              "      <td>9</td>\n",
              "      <td>13</td>\n",
              "      <td>78</td>\n",
              "      <td>1.0</td>\n",
              "    </tr>\n",
              "  </tbody>\n",
              "</table>\n",
              "</div>"
            ],
            "text/plain": [
              "            SEXO  ENTIDAD_RES  MUNICIPIO_RES  EDAD  RESULTADO\n",
              "FECHA_DEF                                                    \n",
              "2020-04-27     2           27              4    71        1.0\n",
              "2020-04-03     2            5             18    66        1.0\n",
              "2020-04-20     1           15            110    67        1.0\n",
              "2020-03-22     2            9             13    78        1.0"
            ]
          },
          "metadata": {
            "tags": []
          },
          "execution_count": 231
        }
      ]
    },
    {
      "cell_type": "code",
      "metadata": {
        "id": "_QLhfgZJEV0a",
        "colab_type": "code",
        "colab": {}
      },
      "source": [
        " #Select rows which values Entidad == 9, since 09 indicates deaths of cdmx\n",
        "df2 = df2[df2.ENTIDAD_RES ==9]"
      ],
      "execution_count": 0,
      "outputs": []
    },
    {
      "cell_type": "code",
      "metadata": {
        "id": "fJu7-ejIIIGM",
        "colab_type": "code",
        "colab": {}
      },
      "source": [
        "#Give names to values, since 1 and 2 represent Mujer, Hombre respectively\n",
        "df2.SEXO = df2['SEXO'].map({1:'Mujer',2:'Hombre'})"
      ],
      "execution_count": 0,
      "outputs": []
    },
    {
      "cell_type": "code",
      "metadata": {
        "id": "o5rfcwt8FYpi",
        "colab_type": "code",
        "colab": {}
      },
      "source": [
        "#Change numbers to their respective Municipio name.\n",
        "df2.MUNICIPIO_RES = df2['MUNICIPIO_RES'].map({2:'AZCAPOTZALCO',3:'COYOACÁN',4:'CUAJIMALPA DE MORELOS',5:'GUSTAVO A. MADERO',6:'IZTACALCO',7:'IZTAPALAPA',\n",
        "                                              8:'LA MAGDALENA CONTRERAS',9:'MILPA ALTA',10:'ÁLVARO OBREGÓN',11:'TLÁHUAC',12:'TLALPAN',13:'XOCHIMILCO',\n",
        "                                              14:'BENITO JUÁREZ',15:'CUAUHTÉMOC',16:'MIGUEL HIDALGO',17:'VENUSTIANO CARRANZA'})"
      ],
      "execution_count": 0,
      "outputs": []
    },
    {
      "cell_type": "code",
      "metadata": {
        "id": "K_icOtSdrnoh",
        "colab_type": "code",
        "outputId": "ec3355d2-8006-45a7-8caa-d342d90ea485",
        "colab": {
          "base_uri": "https://localhost:8080/",
          "height": 175
        }
      },
      "source": [
        "df2.sample(3)"
      ],
      "execution_count": 235,
      "outputs": [
        {
          "output_type": "execute_result",
          "data": {
            "text/html": [
              "<div>\n",
              "<style scoped>\n",
              "    .dataframe tbody tr th:only-of-type {\n",
              "        vertical-align: middle;\n",
              "    }\n",
              "\n",
              "    .dataframe tbody tr th {\n",
              "        vertical-align: top;\n",
              "    }\n",
              "\n",
              "    .dataframe thead th {\n",
              "        text-align: right;\n",
              "    }\n",
              "</style>\n",
              "<table border=\"1\" class=\"dataframe\">\n",
              "  <thead>\n",
              "    <tr style=\"text-align: right;\">\n",
              "      <th></th>\n",
              "      <th>SEXO</th>\n",
              "      <th>ENTIDAD_RES</th>\n",
              "      <th>MUNICIPIO_RES</th>\n",
              "      <th>EDAD</th>\n",
              "      <th>RESULTADO</th>\n",
              "    </tr>\n",
              "    <tr>\n",
              "      <th>FECHA_DEF</th>\n",
              "      <th></th>\n",
              "      <th></th>\n",
              "      <th></th>\n",
              "      <th></th>\n",
              "      <th></th>\n",
              "    </tr>\n",
              "  </thead>\n",
              "  <tbody>\n",
              "    <tr>\n",
              "      <th>2020-05-16</th>\n",
              "      <td>Hombre</td>\n",
              "      <td>9</td>\n",
              "      <td>ÁLVARO OBREGÓN</td>\n",
              "      <td>77</td>\n",
              "      <td>1.0</td>\n",
              "    </tr>\n",
              "    <tr>\n",
              "      <th>2020-04-28</th>\n",
              "      <td>Hombre</td>\n",
              "      <td>9</td>\n",
              "      <td>AZCAPOTZALCO</td>\n",
              "      <td>58</td>\n",
              "      <td>1.0</td>\n",
              "    </tr>\n",
              "    <tr>\n",
              "      <th>2020-04-30</th>\n",
              "      <td>Hombre</td>\n",
              "      <td>9</td>\n",
              "      <td>IZTAPALAPA</td>\n",
              "      <td>44</td>\n",
              "      <td>1.0</td>\n",
              "    </tr>\n",
              "  </tbody>\n",
              "</table>\n",
              "</div>"
            ],
            "text/plain": [
              "              SEXO  ENTIDAD_RES   MUNICIPIO_RES  EDAD  RESULTADO\n",
              "FECHA_DEF                                                       \n",
              "2020-05-16  Hombre            9  ÁLVARO OBREGÓN    77        1.0\n",
              "2020-04-28  Hombre            9    AZCAPOTZALCO    58        1.0\n",
              "2020-04-30  Hombre            9      IZTAPALAPA    44        1.0"
            ]
          },
          "metadata": {
            "tags": []
          },
          "execution_count": 235
        }
      ]
    },
    {
      "cell_type": "code",
      "metadata": {
        "id": "GVJIfFHE3VsM",
        "colab_type": "code",
        "colab": {
          "base_uri": "https://localhost:8080/",
          "height": 86
        },
        "outputId": "69d0d2b1-924e-4928-a722-e25f6e6ea875"
      },
      "source": [
        "df2.groupby(['RESULTADO']).size()"
      ],
      "execution_count": 236,
      "outputs": [
        {
          "output_type": "execute_result",
          "data": {
            "text/plain": [
              "RESULTADO\n",
              "1.0    1461\n",
              "2.0     209\n",
              "dtype: int64"
            ]
          },
          "metadata": {
            "tags": []
          },
          "execution_count": 236
        }
      ]
    },
    {
      "cell_type": "code",
      "metadata": {
        "id": "Pk72zfqz4b9U",
        "colab_type": "code",
        "colab": {}
      },
      "source": [
        "#Select values where Resultado == 1, since 1 indicates Covid positive.\n",
        "Positive = df2[df2.RESULTADO == 1.0]"
      ],
      "execution_count": 0,
      "outputs": []
    },
    {
      "cell_type": "code",
      "metadata": {
        "id": "OkTcKi5d1F_4",
        "colab_type": "code",
        "colab": {}
      },
      "source": [
        "#Cases where Covid were not positive after analysis.\n",
        "No_Positive = df2[df2.RESULTADO == 2.0]"
      ],
      "execution_count": 0,
      "outputs": []
    },
    {
      "cell_type": "markdown",
      "metadata": {
        "id": "9jMdW-O40ToT",
        "colab_type": "text"
      },
      "source": [
        "---"
      ]
    },
    {
      "cell_type": "markdown",
      "metadata": {
        "id": "4djltc_IqsdX",
        "colab_type": "text"
      },
      "source": [
        "### ***Comparison of two datasets***"
      ]
    },
    {
      "cell_type": "code",
      "metadata": {
        "id": "BCDnIbC2S1rw",
        "colab_type": "code",
        "outputId": "98e758cc-3483-4a8d-b528-a46a49b96346",
        "colab": {
          "base_uri": "https://localhost:8080/",
          "height": 368
        }
      },
      "source": [
        "#Histogram\n",
        "\n",
        "fig, ax = plt.subplots(figsize=(6,5))\n",
        "(pd.Series(Confirmed.index)).hist(label=\"Covid_Confirmado(AP.com)\",histtype=\"step\",color='midnightblue')\n",
        "(pd.Series(Positive.index)).hist(label=\"Covid_Positivo(gobmx)\",histtype=\"step\",color='darkred')\n",
        "(pd.Series(No_Confirmed.index)).hist(label=\"Posible_Covid(AP.com)\",histtype=\"step\",color='darkgreen')\n",
        "(pd.Series(No_Positive.index)).hist(label=\"No_Covid(gobmx)\",histtype=\"step\",color='darkorange')\n",
        "plt.legend(loc='upper left')\n",
        "plt.xticks(rotation=90)\n",
        "plt.ylabel('MUERTES(Frequencia)',fontweight='bold')\n",
        "ax.spines['right'].set_visible(False)\n",
        "ax.spines['top'].set_visible(False)\n",
        "ax.grid(b=False)"
      ],
      "execution_count": 239,
      "outputs": [
        {
          "output_type": "display_data",
          "data": {
            "image/png": "[encoded data removed]",
            "text/plain": [
              "<Figure size 432x360 with 1 Axes>"
            ]
          },
          "metadata": {
            "tags": [],
            "needs_background": "light"
          }
        }
      ]
    },
    {
      "cell_type": "code",
      "metadata": {
        "id": "5TlGFRgyq27C",
        "colab_type": "code",
        "outputId": "6c61749f-9ae0-4c92-83ec-6c62e9629287",
        "colab": {
          "base_uri": "https://localhost:8080/",
          "height": 340
        }
      },
      "source": [
        "#Scatter_plot\n",
        "fig, ax = plt.subplots(figsize=(12,4.5))\n",
        "plt.plot(Confirmed.groupby(Confirmed.index).size(),'o', label=\"Covid_Confirmado(AP.com)\",color='midnightblue')\n",
        "plt.plot(Positive.groupby(Positive.index).size(),'o', label=\"Covid_Positivo(gobmx)\", color='darkred')\n",
        "plt.plot(No_Confirmed.groupby(No_Confirmed.index).size(),'o', label=\"Posible_Covid(AP.com)\", color='darkgreen',alpha=0.8)\n",
        "plt.plot(No_Positive.groupby(No_Positive.index).size(),'o', label=\"No_Covid(gobmx)\", color='goldenrod')\n",
        "plt.legend(loc='upper left')\n",
        "plt.xticks(rotation=90)\n",
        "plt.ylabel('MUERTES',fontweight='bold')\n",
        "ax.spines['right'].set_visible(False)\n",
        "ax.spines['top'].set_visible(False)"
      ],
      "execution_count": 240,
      "outputs": [
        {
          "output_type": "display_data",
          "data": {
            "image/png": "[encoded data removed]",
            "text/plain": [
              "<Figure size 864x324 with 1 Axes>"
            ]
          },
          "metadata": {
            "tags": [],
            "needs_background": "light"
          }
        }
      ]
    },
    {
      "cell_type": "code",
      "metadata": {
        "id": "oHiN8igJ5AVe",
        "colab_type": "code",
        "outputId": "058ddf2c-c24c-4cf2-c132-97dae3f3dd0c",
        "colab": {
          "base_uri": "https://localhost:8080/",
          "height": 293
        }
      },
      "source": [
        "#Timeseries\n",
        "\n",
        "fig, ax = plt.subplots(figsize=(12,4.5))\n",
        "ax.plot(Confirmed.groupby(Confirmed.index).size(), marker='.', label=\"Covid_Confirmado(AP.com)\",color='midnightblue')\n",
        "ax.plot(Positive.groupby(Positive.index).size(),color='darkred', marker='.',label=\"Covid_Positivo(gobmx)\")\n",
        "ax.plot(No_Confirmed.groupby(No_Confirmed.index).size(), marker='.', label=\"Posible_Covid(AP.com)\",color='darkgreen',alpha=0.8)\n",
        "ax.plot(No_Positive.groupby(No_Positive.index).size(),color='goldenrod', marker='.',label=\"No_Covid(gobmx)\")\n",
        "ax.set_ylabel('MUERTES',fontweight='bold')\n",
        "ax.legend(loc='upper left')\n",
        "ax.spines['right'].set_visible(False)\n",
        "ax.spines['top'].set_visible(False)\n"
      ],
      "execution_count": 241,
      "outputs": [
        {
          "output_type": "display_data",
          "data": {
            "image/png": "[encoded data removed]",
            "text/plain": [
              "<Figure size 864x324 with 1 Axes>"
            ]
          },
          "metadata": {
            "tags": [],
            "needs_background": "light"
          }
        }
      ]
    },
    {
      "cell_type": "code",
      "metadata": {
        "id": "ZJiKbatP54oF",
        "colab_type": "code",
        "outputId": "b7ab2a23-214e-42e9-9d84-e252c715214a",
        "colab": {
          "base_uri": "https://localhost:8080/",
          "height": 340
        }
      },
      "source": [
        "#Bar_plot\n",
        "\n",
        "fig, ax = plt.subplots(figsize=(12,4.5))\n",
        "No_Confirmed.groupby(No_Confirmed.index).size().plot(kind=\"bar\", alpha=0.55,color='darkgreen',label=\"Posible_Covid(AP.com)\")\n",
        "Positive.groupby(Positive.index).size().plot(kind=\"bar\",color='darkred',label=\"Covid_Positivo(gobmx)\")\n",
        "Confirmed.groupby(Confirmed.index).size().plot(kind=\"bar\",color='midnightblue',label=\"Covid_Confirmado(AP.com)\")\n",
        "No_Positive.groupby(No_Positive.index).size().plot(kind=\"bar\",color='goldenrod',alpha=0.75,label=\"No_Covid(gobmx)\")\n",
        "plt.ylabel('MUERTES',fontweight='bold')\n",
        "plt.xlabel('')\n",
        "ax.legend(loc='upper left')\n",
        "ax.spines['right'].set_visible(False)\n",
        "ax.spines['top'].set_visible(False)\n"
      ],
      "execution_count": 242,
      "outputs": [
        {
          "output_type": "display_data",
          "data": {
            "image/png": "[encoded data removed]",
            "text/plain": [
              "<Figure size 864x324 with 1 Axes>"
            ]
          },
          "metadata": {
            "tags": [],
            "needs_background": "light"
          }
        }
      ]
    },
    {
      "cell_type": "markdown",
      "metadata": {
        "id": "zhhPQWFEq4xx",
        "colab_type": "text"
      },
      "source": [
        "***Plus_Data***"
      ]
    },
    {
      "cell_type": "code",
      "metadata": {
        "id": "-FhXwik754-E",
        "colab_type": "code",
        "outputId": "b74d3ae2-f8b5-4dd4-fc79-479192dc9945",
        "colab": {
          "base_uri": "https://localhost:8080/",
          "height": 334
        }
      },
      "source": [
        "#Histogram indicates more frequent Edad of people which died for covid\n",
        "#According to bot dataset, deaths for covid were between 55-65 years aprox.\n",
        "fig,ax = plt.subplots(figsize=(6,5))\n",
        "Positive.EDAD.hist(histtype='step',color='chocolate',label=\"gobmx\")\n",
        "Confirmed.EDAD.hist(histtype='step',color='slategray',label=\"Ap.com\")\n",
        "plt.xlabel('EDAD')\n",
        "plt.ylabel('MUERTES(Frequencia)',fontweight='bold')\n",
        "plt.legend()\n",
        "ax.spines['right'].set_visible(False)\n",
        "ax.spines['top'].set_visible(False)\n",
        "ax.grid(b=False)\n"
      ],
      "execution_count": 243,
      "outputs": [
        {
          "output_type": "display_data",
          "data": {
            "image/png": "[encoded data removed]",
            "text/plain": [
              "<Figure size 432x360 with 1 Axes>"
            ]
          },
          "metadata": {
            "tags": [],
            "needs_background": "light"
          }
        }
      ]
    },
    {
      "cell_type": "code",
      "metadata": {
        "id": "rwBW-w165TxI",
        "colab_type": "code",
        "outputId": "fb2b5eec-0b9a-402b-e5d7-8385e57b0608",
        "colab": {
          "base_uri": "https://localhost:8080/",
          "height": 349
        }
      },
      "source": [
        "#According to second dataset (Positive cases), most of dead people for Covid were men (Hombres)\n",
        "\n",
        "fig, ax = plt.subplots(figsize=(5.5,5))\n",
        "Positive.groupby(['SEXO']).size().plot(kind='bar',color=('darkslategray','indianred'))\n",
        "ax.set_xlabel('')\n",
        "ax.set_ylabel('MUERTES',fontweight='bold')\n",
        "ax.spines['right'].set_visible(False)\n",
        "ax.spines['top'].set_visible(False)"
      ],
      "execution_count": 244,
      "outputs": [
        {
          "output_type": "display_data",
          "data": {
            "image/png": "[encoded data removed]",
            "text/plain": [
              "<Figure size 396x360 with 1 Axes>"
            ]
          },
          "metadata": {
            "tags": [],
            "needs_background": "light"
          }
        }
      ]
    },
    {
      "cell_type": "code",
      "metadata": {
        "id": "NlclYeW2qVmu",
        "colab_type": "code",
        "outputId": "d0c9a169-d117-4a1b-c5ad-45b964d10943",
        "colab": {
          "base_uri": "https://localhost:8080/",
          "height": 453
        }
      },
      "source": [
        "#According to second dataset (Positive cases), these are the Municipios in CDMX where dead people lived. \n",
        "\n",
        "fig,ax= plt.subplots(figsize=(7,5))\n",
        "Positive.groupby(['MUNICIPIO_RES']).size().plot(kind=\"bar\", color='saddlebrown')\n",
        "ax.set_xlabel('')\n",
        "ax.set_ylabel('MUERTES',fontweight='bold')\n",
        "ax.spines['right'].set_visible(False)\n",
        "ax.spines['top'].set_visible(False)"
      ],
      "execution_count": 245,
      "outputs": [
        {
          "output_type": "display_data",
          "data": {
            "image/png": "[encoded data removed]",
            "text/plain": [
              "<Figure size 504x360 with 1 Axes>"
            ]
          },
          "metadata": {
            "tags": [],
            "needs_background": "light"
          }
        }
      ]
    },
    {
      "cell_type": "markdown",
      "metadata": {
        "id": "6mmsP8l3SxUD",
        "colab_type": "text"
      },
      "source": [
        "  **Databases:**                                                       \n",
        "- https://www.animalpolitico.com/2020/05actas-defuncion-muertes-covid-cdmx/                                    \n",
        "- https://datos.gob.mx/busca/dataset/informacion-referente-a-casos-covid-19-en-mexico\n",
        "\n"
      ]
    }
  ]
}